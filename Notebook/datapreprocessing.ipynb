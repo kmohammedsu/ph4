{
 "cells": [
  {
   "cell_type": "markdown",
   "metadata": {},
   "source": [
    "## 1. Load and Clean the Corruption Dataset\n",
    "\n",
    "We start by loading the political corruption index dataset, which includes corruption scores by country and year. However, several country codes are missing or inconsistent. We manually assign ISO 3-letter codes to these non-standard regions using a custom mapping dictionary.\n",
    "\n",
    "This standardization ensures that every country in this dataset can later be matched correctly with GDP and health data.\n"
   ]
  },
  {
   "cell_type": "code",
   "execution_count": 1,
   "metadata": {},
   "outputs": [
    {
     "name": "stdout",
     "output_type": "stream",
     "text": [
      "Filtered and processed corruption dataset saved as 'corruption_filtered_matched_to_gdp.csv'\n"
     ]
    }
   ],
   "source": [
    "import pandas as pd\n",
    "import pycountry\n",
    "corruption_df = pd.read_csv(\"../Data/political-corruption-index.csv\")\n",
    "\n",
    "\n",
    "code_mapping = {\n",
    "    \"Africa\": \"AFR\",\n",
    "    \"Asia\": \"ASI\",\n",
    "    \"Brunswick\": \"BRW\",\n",
    "    \"Democratic Republic of Vietnam\": \"DRV\",\n",
    "    \"Duchy of Nassau\": \"NAS\",\n",
    "    \"Europe\": \"EUR\",\n",
    "    \"North America\": \"NAM\",\n",
    "    \"Oceania\": \"OCN\",\n",
    "    \"Oldenburg\": \"OLD\",\n",
    "    \"Palestine/Gaza\": \"PGA\",\n",
    "    \"Palestine/West Bank\": \"PWB\",\n",
    "    \"Piedmont-Sardinia\": \"PMS\",\n",
    "    \"Saxe-Weimar-Eisenach\": \"SWE\",\n",
    "    \"South America\": \"SAM\",\n",
    "    \"Wurttemberg\": \"WUR\"\n",
    "}\n",
    "\n",
    "\n",
    "valid_gdp_codes = [\n",
    "    \"ARG\", \"AUS\", \"AUT\", \"BEL\", \"BRA\", \"BGR\", \"CAN\", \"CHL\", \"CHN\", \"COL\", \"CRI\", \"HRV\", \"CYP\", \"CZE\", \"DNK\", \"EST\",\n",
    "    \"FIN\", \"FRA\", \"DEU\", \"GRC\", \"HUN\", \"ISL\", \"IND\", \"IDN\", \"IRL\", \"ISR\", \"ITA\", \"JPN\", \"LVA\", \"LTU\", \"LUX\", \"MLT\",\n",
    "    \"MEX\", \"NLD\", \"NZL\", \"NOR\", \"PER\", \"POL\", \"PRT\", \"ROU\", \"SVK\", \"SVN\", \"ZAF\", \"KOR\", \"ESP\", \"SWE\", \"CHE\", \"TUR\",\n",
    "    \"UKR\", \"GBR\", \"USA\"\n",
    "]\n",
    "\n",
    "corruption_df['Code'] = corruption_df.apply(\n",
    "    lambda row: code_mapping.get(row['Entity'], row['Code']) \n",
    "    if pd.isna(row['Code']) or str(row['Code']).strip() == '' else row['Code'],\n",
    "    axis=1\n",
    ")\n",
    "\n",
    "\n",
    "corruption_filtered = corruption_df[corruption_df['Code'].isin(valid_gdp_codes)]\n",
    "\n",
    "\n",
    "corruption_filtered.to_csv(\"../Temporary Files/corruption_filtered_matched_to_gdp.csv\", index=False)\n",
    "\n",
    "print(\"Filtered and processed corruption dataset saved as 'corruption_filtered_matched_to_gdp.csv'\")\n"
   ]
  },
  {
   "cell_type": "markdown",
   "metadata": {},
   "source": [
    "## 2. Preview Cleaned Corruption Dataset\n",
    "\n",
    "We load the cleaned version of the corruption dataset to visually inspect the assigned codes and confirm that the data is ready for merging.\n",
    "\n",
    "This step helps verify that our mapping logic worked as expected.\n"
   ]
  },
  {
   "cell_type": "code",
   "execution_count": 2,
   "metadata": {},
   "outputs": [
    {
     "data": {
      "text/html": [
       "<div>\n",
       "<style scoped>\n",
       "    .dataframe tbody tr th:only-of-type {\n",
       "        vertical-align: middle;\n",
       "    }\n",
       "\n",
       "    .dataframe tbody tr th {\n",
       "        vertical-align: top;\n",
       "    }\n",
       "\n",
       "    .dataframe thead th {\n",
       "        text-align: right;\n",
       "    }\n",
       "</style>\n",
       "<table border=\"1\" class=\"dataframe\">\n",
       "  <thead>\n",
       "    <tr style=\"text-align: right;\">\n",
       "      <th></th>\n",
       "      <th>Entity</th>\n",
       "      <th>Code</th>\n",
       "      <th>Year</th>\n",
       "      <th>Political corruption index (central estimate, aggregate: average)</th>\n",
       "    </tr>\n",
       "  </thead>\n",
       "  <tbody>\n",
       "    <tr>\n",
       "      <th>0</th>\n",
       "      <td>Argentina</td>\n",
       "      <td>ARG</td>\n",
       "      <td>1789</td>\n",
       "      <td>0.321</td>\n",
       "    </tr>\n",
       "    <tr>\n",
       "      <th>1</th>\n",
       "      <td>Argentina</td>\n",
       "      <td>ARG</td>\n",
       "      <td>1790</td>\n",
       "      <td>0.321</td>\n",
       "    </tr>\n",
       "    <tr>\n",
       "      <th>2</th>\n",
       "      <td>Argentina</td>\n",
       "      <td>ARG</td>\n",
       "      <td>1791</td>\n",
       "      <td>0.321</td>\n",
       "    </tr>\n",
       "    <tr>\n",
       "      <th>3</th>\n",
       "      <td>Argentina</td>\n",
       "      <td>ARG</td>\n",
       "      <td>1792</td>\n",
       "      <td>0.321</td>\n",
       "    </tr>\n",
       "    <tr>\n",
       "      <th>4</th>\n",
       "      <td>Argentina</td>\n",
       "      <td>ARG</td>\n",
       "      <td>1793</td>\n",
       "      <td>0.321</td>\n",
       "    </tr>\n",
       "  </tbody>\n",
       "</table>\n",
       "</div>"
      ],
      "text/plain": [
       "      Entity Code  Year  \\\n",
       "0  Argentina  ARG  1789   \n",
       "1  Argentina  ARG  1790   \n",
       "2  Argentina  ARG  1791   \n",
       "3  Argentina  ARG  1792   \n",
       "4  Argentina  ARG  1793   \n",
       "\n",
       "   Political corruption index (central estimate, aggregate: average)  \n",
       "0                                              0.321                  \n",
       "1                                              0.321                  \n",
       "2                                              0.321                  \n",
       "3                                              0.321                  \n",
       "4                                              0.321                  "
      ]
     },
     "execution_count": 2,
     "metadata": {},
     "output_type": "execute_result"
    }
   ],
   "source": [
    "corruption_filtered = pd.read_csv(\"../Temporary Files/corruption_filtered_matched_to_gdp.csv\")\n",
    "corruption_filtered.head()"
   ]
  },
  {
   "cell_type": "markdown",
   "metadata": {},
   "source": [
    "## 3. Merge GDP and Corruption Data\n",
    "\n",
    "We merge the public health expenditure dataset with the corruption dataset using common keys: `Code` and `Year`.\n",
    "\n",
    "Only records from the years 2010 to 2021 are retained, as they are more relevant and consistent in terms of data availability and global comparability. We also clean up redundant columns and rename them for clarity.\n"
   ]
  },
  {
   "cell_type": "code",
   "execution_count": 3,
   "metadata": {},
   "outputs": [
    {
     "name": "stdout",
     "output_type": "stream",
     "text": [
      "Final dataset saved as 'merged_gdp_corruption_2010_2021.csv'\n"
     ]
    }
   ],
   "source": [
    "gdp_health_df = pd.read_csv(\"../Data/Percentage of GDP spemt on Public Health.csv\")\n",
    "corruption_df = pd.read_csv(\"../Data/political-corruption-index.csv\")\n",
    "\n",
    "merged_df = pd.merge(\n",
    "    gdp_health_df,\n",
    "    corruption_df,\n",
    "    on=['Code', 'Year'],\n",
    "    how='inner',\n",
    "    suffixes=('_gdp', '_corruption')\n",
    ")\n",
    "\n",
    "\n",
    "merged_df = merged_df[(merged_df['Year'] >= 2010) & (merged_df['Year'] <= 2021)]\n",
    "\n",
    "\n",
    "merged_df.drop(columns=['Entity_corruption'], inplace=True)\n",
    "merged_df.rename(columns={'Entity_gdp': 'Entity'}, inplace=True)\n",
    "\n",
    "\n",
    "merged_df.to_csv(\"../Temporary Files/merged_gdp_corruption_2010_2021.csv\", index=False)\n",
    "\n",
    "print(\"Final dataset saved as 'merged_gdp_corruption_2010_2021.csv'\")\n"
   ]
  },
  {
   "cell_type": "markdown",
   "metadata": {},
   "source": [
    "## 4. Filter IHME Health Data to Match Available Countries\n",
    "\n",
    "The IHME dataset contains detailed global health data by cause of death, age, and sex for various countries. However, it uses country names instead of codes.\n",
    "\n",
    "To align with our merged GDP-corruption dataset, we:\n",
    "- Extract unique country names from IHME\n",
    "- Convert them into ISO codes using `pycountry`\n",
    "- Filter out only those countries for which we have valid GDP and corruption data\n",
    "\n",
    "This ensures consistency across all three datasets.\n"
   ]
  },
  {
   "cell_type": "code",
   "execution_count": 4,
   "metadata": {},
   "outputs": [],
   "source": [
    "df = pd.read_csv(\"../Data/IHME-GBD_2021_DATA-cc52e0a9-1.csv\")\n",
    "df2 = pd.read_csv(\"../Temporary Files/merged_gdp_corruption_2010_2021.csv\")\n",
    "\n",
    "\n",
    "unique_countries = df['location_name'].unique()\n",
    "\n",
    "\n",
    "def get_country_code(name):\n",
    "    try:\n",
    "        return pycountry.countries.lookup(name).alpha_3\n",
    "    except LookupError:\n",
    "        return None\n",
    "\n",
    "country_codes_df = pd.DataFrame(unique_countries, columns=[\"Country Name\"])\n",
    "country_codes_df[\"Country Code\"] = country_codes_df[\"Country Name\"].apply(get_country_code)\n",
    "\n",
    "\n",
    "valid_codes = df2['Code'].dropna().unique()\n",
    "matched_df = country_codes_df[country_codes_df[\"Country Code\"].isin(valid_codes)]\n",
    "\n",
    "\n",
    "filtered_df = df[df['location_name'].isin(matched_df[\"Country Name\"])].copy()\n",
    "country_code_mapping = dict(zip(matched_df['Country Name'], matched_df['Country Code']))\n",
    "filtered_df['Code'] = filtered_df['location_name'].map(country_code_mapping)\n",
    "\n",
    "\n",
    "filtered_df.to_csv(\"../Temporary Files/filtered_dataset_with_codes.csv\", index=False)\n"
   ]
  },
  {
   "cell_type": "markdown",
   "metadata": {},
   "source": [
    "## 5. Merge Health Data with GDP and Corruption Indicators\n",
    "\n",
    "We merge the filtered IHME dataset with the combined GDP-corruption dataset on country code and year.\n",
    "\n",
    "The result is a comprehensive dataset containing:\n",
    "- Health outcomes (percent or rate of disease burden)\n",
    "- Public healthcare investment\n",
    "- Corruption index\n",
    "\n",
    "This forms the base dataset for any downstream statistical or ML analysis.\n"
   ]
  },
  {
   "cell_type": "code",
   "execution_count": 5,
   "metadata": {},
   "outputs": [],
   "source": [
    "filtered_df = pd.read_csv(\"../Temporary Files/filtered_dataset_with_codes.csv\")\n",
    "gdp_corruption_df = pd.read_csv(\"../Temporary Files/merged_gdp_corruption_2010_2021.csv\")\n",
    "gdp_corruption_df.rename(columns={\"Year\": \"year\"}, inplace=True)\n",
    "merged_df = pd.merge(filtered_df, gdp_corruption_df, on=[\"Code\", \"year\"], how=\"inner\")\n",
    "merged_df.to_csv(\"../Temporary Files/final_merged_dataset.csv\", index=False)\n"
   ]
  },
  {
   "cell_type": "markdown",
   "metadata": {},
   "source": [
    "## 6. Preview Final Merged Dataset\n",
    "\n",
    "We reload and inspect the final merged dataset saved from the previous step.\n",
    "\n",
    "This is to confirm that the merging process was successful and the dataset structure is intact.\n"
   ]
  },
  {
   "cell_type": "code",
   "execution_count": 6,
   "metadata": {},
   "outputs": [],
   "source": [
    "columns_to_drop = [\n",
    "    \"measure_id\", \"measure_name\", \"location_id\",\n",
    "    \"sex_id\", \"sex_name\", \"age_id\", \"age_name\",\n",
    "    \"metric_id\", \"Entity\"\n",
    "]\n",
    "cleaned_df = merged_df.drop(columns=columns_to_drop)\n",
    "cleaned_df.to_csv(\"../Temporary Files/cleaned_final_merged_dataset.csv\", index=False)\n"
   ]
  },
  {
   "cell_type": "markdown",
   "metadata": {},
   "source": [
    "## 7. Remove Irrelevant Metric Values\n",
    "\n",
    "The IHME dataset includes multiple metrics such as \"Number\", \"Percent\", and \"Rate\". For our analysis, we only retain \"Percent\" and \"Rate\", since \"Number\" is not normalized and could skew the results.\n",
    "\n",
    "This step filters out those rows where metric is \"Number\".\n"
   ]
  },
  {
   "cell_type": "code",
   "execution_count": 7,
   "metadata": {},
   "outputs": [],
   "source": [
    "cleaned_df = pd.read_csv(\"../Temporary Files/cleaned_final_merged_dataset.csv\")\n",
    "cleaned_df.columns = [col.strip().lower().replace(\" \", \"_\") for col in cleaned_df.columns]\n",
    "desired_order = [\n",
    "    \"code\", \"location_name\", \"year\",\n",
    "    \"public_health_expenditure_as_a_share_of_gdp\",\n",
    "    \"political_corruption_index_(central_estimate,_aggregate:_average)\",\n",
    "    \"cause_id\", \"cause_name\", \"metric_name\",\n",
    "    \"val\", \"upper\", \"lower\"\n",
    "]\n",
    "reordered_df = cleaned_df[desired_order]\n",
    "reordered_df.rename(columns={\n",
    "    \"code\": \"country_code\",\n",
    "    \"location_name\": \"country\",\n",
    "    \"public_health_expenditure_as_a_share_of_gdp\": \"gdp_health_expenditure\",\n",
    "    \"political_corruption_index_(central_estimate,_aggregate:_average)\": \"political_corruption_index\",\n",
    "    \"cause_id\": \"cause_id\",\n",
    "    \"cause_name\": \"cause_name\",\n",
    "    \"metric_name\": \"metric\",\n",
    "    \"val\": \"value\",\n",
    "    \"upper\": \"upper_value\",\n",
    "    \"lower\": \"lower_value\"\n",
    "}, inplace=True)\n",
    "reordered_df.to_csv(\"../Temporary Files/final_ordered_renamed_dataset.csv\", index=False)\n"
   ]
  },
  {
   "cell_type": "markdown",
   "metadata": {},
   "source": [
    "## 8. Sort and Export Final Cleaned Dataset\n",
    "\n",
    "Finally, we sort the cleaned dataset by country code and year, ensuring a structured view for time series analysis or unsupervised learning.\n",
    "\n",
    "This dataset is saved and ready for techniques like PCA, K-means, SVD, or clustering.\n"
   ]
  },
  {
   "cell_type": "code",
   "execution_count": 8,
   "metadata": {},
   "outputs": [],
   "source": [
    "df = pd.read_csv(\"../Temporary Files/final_ordered_renamed_dataset.csv\")\n",
    "filtered_df = df[~df['metric'].str.lower().eq('number')]\n",
    "filtered_df.columns = [\n",
    "    \"country_code\", \"country\", \"year\", \"gdp_health_expenditure\",\n",
    "    \"political_corruption_index\", \"cause_id\", \"cause_name\",\n",
    "    \"metric\", \"value\", \"upper_value\", \"lower_value\"\n",
    "]\n",
    "filtered_df = filtered_df.sort_values(by=[\"country_code\", \"year\"])\n",
    "filtered_df.to_csv(\"../Data/filtered_dataset.csv\", index=False)\n"
   ]
  }
 ],
 "metadata": {
  "kernelspec": {
   "display_name": "Python 3",
   "language": "python",
   "name": "python3"
  },
  "language_info": {
   "name": "python",
   "version": "3.10.11"
  }
 },
 "nbformat": 4,
 "nbformat_minor": 2
}
